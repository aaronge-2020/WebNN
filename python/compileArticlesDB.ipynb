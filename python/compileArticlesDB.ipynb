{
 "cells": [
  {
   "cell_type": "code",
   "execution_count": 37,
   "id": "6d937fbd",
   "metadata": {
    "scrolled": true
   },
   "outputs": [],
   "source": [
    "import os\n",
    "from langchain.utilities import ArxivAPIWrapper\n",
    "import arxiv\n",
    "from langchain.utilities import BashProcess\n",
    "import pprint\n",
    "from langchain.utilities import SearxSearchWrapper\n",
    "from langchain.agents import AgentType, Tool, initialize_agent, load_tools\n",
    "from langchain.chat_models import ChatOpenAI\n",
    "from langchain.tools import BaseTool"
   ]
  },
  {
   "cell_type": "code",
   "execution_count": 67,
   "id": "6bbddb35",
   "metadata": {},
   "outputs": [],
   "source": [
    "import arxiv\n",
    "import json\n",
    "from datetime import date\n",
    "\n",
    "def compile_articles_database(keywords, categories):\n",
    "    # Create a query string from the keywords and categories\n",
    "    query = \" AND \".join(keywords) + \" AND \" + \" OR \".join(categories)\n",
    "\n",
    "    # Search the arxiv API for articles that match the keywords and categories\n",
    "    articles = arxiv.Search(query=query, max_results=1000, sort_by = arxiv.SortCriterion.SubmittedDate, sort_order= arxiv.SortOrder.Descending)\n",
    "\n",
    "    # Initialize the database as an empty list\n",
    "    database = []\n",
    "\n",
    "    \n",
    "    # Iterate through the articles and add them to the database\n",
    "    for article in articles.results():\n",
    "        database.append({\n",
    "            \"title\": article.title,\n",
    "            \"authors\": [author.name for author in article.authors],\n",
    "            \"abstract\": article.summary,\n",
    "            \"categories\": article.categories,\n",
    "            \"link\": article.pdf_url,\n",
    "            \"date\": article.published\n",
    "        })\n",
    "\n",
    "    # Save the database to a file\n",
    "    # Make the dbName articles_database_currentDate.json\n",
    "    # e.g. articles_database_2021-03-01.json\n",
    "\n",
    "    # Get the current date\n",
    "    today = date.today()\n",
    "    currentDate = today.strftime(\"%Y-%m-%d\")\n",
    "    dbName = \"articles_database_\" + currentDate + \".json\"\n",
    "\n",
    "    with open(dbName, \"w\") as file:\n",
    "        json.dump({'articles': database}, file, default=str)\n",
    "\n",
    "    # Return the database\n",
    "    return database\n"
   ]
  },
  {
   "cell_type": "code",
   "execution_count": null,
   "id": "c64242f7",
   "metadata": {},
   "outputs": [],
   "source": [
    "import arxiv\n",
    "import csv\n",
    "from datetime import date\n",
    "\n",
    "def compile_articles_database(keywords, categories):\n",
    "    # Create a query string from the keywords and categories\n",
    "    query = \" AND \".join(keywords) + \" AND \" + \" OR \".join(categories)\n",
    "\n",
    "    # Search the arxiv API for articles that match the keywords and categories\n",
    "    articles = arxiv.Search(query=query, max_results=1000, sort_by=arxiv.SortCriterion.SubmittedDate, sort_order=arxiv.SortOrder.Descending)\n",
    "\n",
    "    # Initialize the database as an empty list\n",
    "    database = []\n",
    "\n",
    "    # Iterate through the articles and add them to the database\n",
    "    for article in articles.results():\n",
    "        database.append({\n",
    "            \"title\": article.title,\n",
    "            \"authors\": [author.name for author in article.authors],\n",
    "            \"abstract\": article.summary,\n",
    "            \"categories\": article.categories,\n",
    "            \"link\": article.pdf_url,\n",
    "            \"date\": article.published\n",
    "        })\n",
    "\n",
    "    # Save the database to a CSV file\n",
    "    # Make the dbName articles_database_currentDate.csv\n",
    "    # e.g. articles_database_2021-03-01.csv\n",
    "\n",
    "    # Get the current date\n",
    "    today = date.today()\n",
    "    currentDate = today.strftime(\"%Y-%m-%d\")\n",
    "    dbName = \"articles_database_\" + currentDate + \".csv\"\n",
    "\n",
    "    # Write the database to a CSV file\n",
    "    with open(dbName, \"w\", newline=\"\", encoding=\"utf-8\") as file:\n",
    "        writer = csv.writer(file)\n",
    "        # Write the header row\n",
    "        writer.writerow([\"title\", \"authors\", \"abstract\", \"categories\", \"link\", \"date\"])\n",
    "        # Write each article to a new row in the CSV file\n",
    "        for article in database:\n",
    "            writer.writerow([article[\"title\"], \", \".join(article[\"authors\"]), article[\"abstract\"], \", \".join(article[\"categories\"]), article[\"link\"], article[\"date\"]])\n",
    "\n",
    "    # Return the database\n",
    "    return database\n"
   ]
  },
  {
   "cell_type": "code",
   "execution_count": 68,
   "id": "6cf2e2bb",
   "metadata": {},
   "outputs": [],
   "source": [
    "# Example usage:\n",
    "keywords = [\"neural networks\", \"genomics\"]\n",
    "categories = [\"cs.LG\", \"stat.ML\", \"cs.AI\", \"q-bio.GN\" ,\"q-bio.MN\"]\n",
    "db = compile_articles_database(keywords, categories)\n",
    "\n",
    "# Categories: https://arxiv.org/category_taxonomy"
   ]
  },
  {
   "cell_type": "code",
   "execution_count": 70,
   "id": "71bde501",
   "metadata": {},
   "outputs": [],
   "source": [
    "import json\n",
    "\n",
    "# Open the JSON file\n",
    "with open('articles_database_2023-04-28.json') as f:\n",
    "    # Load the JSON data into a dictionary\n",
    "    data = json.load(f)\n",
    "\n",
    "\n",
    "json_spec = JsonSpec(dict_=data, max_value_length=4000)\n",
    "json_toolkit = JsonToolkit(spec=json_spec)\n",
    "\n",
    "json_agent_executor = create_json_agent(\n",
    "    llm=OpenAI(temperature=0),\n",
    "    toolkit=json_toolkit,\n",
    "    verbose=True\n",
    ")\n",
    "json_agent_executor.run(\"What are the most groundbreaking papers in deep learning?\")"
   ]
  },
  {
   "cell_type": "code",
   "execution_count": 63,
   "id": "acca0adf",
   "metadata": {},
   "outputs": [],
   "source": [
    "from langchain.agents import create_csv_agent\n",
    "from langchain.llms import OpenAI\n",
    "agent = create_csv_agent(OpenAI(temperature=0), 'articles_database_2023-04-28.csv', verbose=True)\n",
    "agent.run(\"What are the most groundbreaking papers in deep learning?\")"
   ]
  }
 ],
 "metadata": {
  "kernelspec": {
   "display_name": "Python 3 (ipykernel)",
   "language": "python",
   "name": "python3"
  },
  "language_info": {
   "codemirror_mode": {
    "name": "ipython",
    "version": 3
   },
   "file_extension": ".py",
   "mimetype": "text/x-python",
   "name": "python",
   "nbconvert_exporter": "python",
   "pygments_lexer": "ipython3",
   "version": "3.10.10"
  },
  "varInspector": {
   "cols": {
    "lenName": 16,
    "lenType": 16,
    "lenVar": 40
   },
   "kernels_config": {
    "python": {
     "delete_cmd_postfix": "",
     "delete_cmd_prefix": "del ",
     "library": "var_list.py",
     "varRefreshCmd": "print(var_dic_list())"
    },
    "r": {
     "delete_cmd_postfix": ") ",
     "delete_cmd_prefix": "rm(",
     "library": "var_list.r",
     "varRefreshCmd": "cat(var_dic_list()) "
    }
   },
   "types_to_exclude": [
    "module",
    "function",
    "builtin_function_or_method",
    "instance",
    "_Feature"
   ],
   "window_display": false
  }
 },
 "nbformat": 4,
 "nbformat_minor": 5
}
